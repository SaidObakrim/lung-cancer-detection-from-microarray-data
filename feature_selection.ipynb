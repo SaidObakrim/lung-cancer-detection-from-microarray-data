{
 "cells": [
  {
   "cell_type": "markdown",
   "metadata": {},
   "source": [
    "# lung cancer detection from microarray data\n",
    "### Introduction \n",
    "Machine learning is used in many applications around the world, the healthcare industry is no exception. Lung cancer is one of the most leading causes of cancer deaths in the world and machine learning algorithms can play an important role in predicting the presence or absence of such a disease. This information can provide important insights to doctors who can then adapt their diagnosis and treatment to the patient. \n",
    "### Contribution \n",
    "In this project I will present a binary PSO feature selection using Random Forest Classifier for lung cancer detection. \n",
    "### Data loading and preparition\n",
    "The dataset is available in http://math.bu.edu/people/sray/software/prediction/datasets/lung_annarbor_outcome.csv"
   ]
  },
  {
   "cell_type": "code",
   "execution_count": 872,
   "metadata": {},
   "outputs": [],
   "source": [
    "import pandas as pd \n",
    "import numpy as np\n",
    "data = pd.read_csv('lung_annarbor_outcome.csv')\n",
    "df = pd.DataFrame.transpose(data)\n",
    "#creation of labels\n",
    "f  = [1]*24 #1 representes the presence of lung cancer\n",
    "ff = [0]*62 #0 representes the absence of lung cancer\n",
    "f.extend(ff)\n",
    "y = np.asarray(f)# Ground truth labels"
   ]
  },
  {
   "cell_type": "code",
   "execution_count": 873,
   "metadata": {},
   "outputs": [
    {
     "data": {
      "text/plain": [
       "(86, 7129)"
      ]
     },
     "execution_count": 873,
     "metadata": {},
     "output_type": "execute_result"
    }
   ],
   "source": [
    "df.shape"
   ]
  },
  {
   "cell_type": "markdown",
   "metadata": {},
   "source": [
    "#### Feature scaling "
   ]
  },
  {
   "cell_type": "code",
   "execution_count": 874,
   "metadata": {},
   "outputs": [],
   "source": [
    "from sklearn.preprocessing import StandardScaler\n",
    "X = StandardScaler().fit_transform(df)"
   ]
  },
  {
   "cell_type": "markdown",
   "metadata": {},
   "source": [
    "## Feature selection\n",
    "Th size of the dataset is 86*7129; 86 observation and 7129 feature. This poses a problem for machine learning algorithms. To address this issue, we need to select the relevant features using an optimization algorithm called Particle Swarm Optimization(PSO).<br>\n",
    "#### Particle Swarm Optimization\n",
    "PSO is a metaheuristic and a population-based stochastic optimization algorithm, inspired by the social behavior of bird flocking or fish schooling. Over a number of iterations of PSO algorithm, a group of particles have their values adjusted closer to the member whose value is closest to the target at any given moment.<br>\n",
    "I am going to use the Binary PSO algorithm to perform feature selection to improve classifier performance. For a Binary PSO, the position of the particles are expressed in two terms: 0 or 1. If we have a particle $X$ on m-dimensions, then it's position can be defined as:<br>\n",
    "\n",
    "<center>$X = [x_1,x_2,...,x_m]$ where $x_i\\in \\{0,1\\}.$</center>\n",
    "\n",
    "To perform feature selection, we are going to assign each feature as a dimension of a particle. Hence, once we’ve implemented Binary PSO and obtained the best position, we can then interpret the binary array simply as turning a feature on and off. Now we have to define the objective function we want to optimize.\n",
    "#### The objective function\n",
    "The objective function we are going to use here is (<a href=\"https://www.sciencedirect.com/science/article/pii/S1568494613001361\"> Vieira, Mendoca, Sousa, et al. (2013)</a>):<br> \n",
    "<center>$f(X) = \\alpha (1-P)+(1-\\alpha)(1-\\frac{N_f}{N_t})$</center>\n",
    "Where $\\alpha$ is a hyperparameter that decides the tradeoff between the classifier performance $P$, and the size of the feature subset $N_f$ with respect to the total number of features $N_t$. The classifier performance can be the accuracy, F-score, precision, and so on.\n"
   ]
  },
  {
   "cell_type": "markdown",
   "metadata": {},
   "source": [
    "#### Splitting the dataset into training and test set"
   ]
  },
  {
   "cell_type": "code",
   "execution_count": 875,
   "metadata": {},
   "outputs": [],
   "source": [
    "from sklearn.model_selection import train_test_split\n",
    "X_train, X_test, y_train, y_test = train_test_split(X, y, test_size = 0.2, random_state=86)"
   ]
  },
  {
   "cell_type": "markdown",
   "metadata": {},
   "source": [
    "#### Writing the objective function\n",
    "as previously mentioned, we can write our objective function by simply taking the performance of the classifier and the size of the feature subset divided by the total, to return an error in the data. In our case, cancer detection, Recall is a better measure for classification performance. "
   ]
  },
  {
   "cell_type": "code",
   "execution_count": 876,
   "metadata": {},
   "outputs": [],
   "source": [
    "from sklearn.ensemble import RandomForestClassifier \n",
    "from sklearn.metrics import recall_score\n",
    "classifier = RandomForestClassifier(n_estimators=6, random_state=86)\n",
    "def f_per_particle(m, alpha):\n",
    "    total_features = 7129\n",
    "    # Get the subset of the features from the binary mask\n",
    "    if np.count_nonzero(m) == 0:\n",
    "        X_subset = X_train\n",
    "        Xtest_subset = X_test\n",
    "    else:\n",
    "        X_subset = X_train[:,m==1]\n",
    "        Xtest_subset = X_test[:,m==1]\n",
    "    # Perform classification and store performance in P\n",
    "    classifier.fit(X_subset, y_train)\n",
    "    P = recall_score(y_test, classifier.predict(Xtest_subset), average=\"macro\")\n",
    "    # Compute for the objective function\n",
    "    j = (alpha * (1.0 - P)\n",
    "        + (1.0 - alpha) * (1 - (Xtest_subset.shape[1] / total_features)))\n",
    "\n",
    "    return j"
   ]
  },
  {
   "cell_type": "code",
   "execution_count": 877,
   "metadata": {},
   "outputs": [],
   "source": [
    "def f(x, alpha=0.8):\n",
    "    \n",
    "    n_particles = x.shape[0]\n",
    "    j = [f_per_particle(x[i], alpha) for i in range(n_particles)]\n",
    "    return np.array(j)"
   ]
  },
  {
   "cell_type": "markdown",
   "metadata": {},
   "source": [
    "#### Optimize the objective function $f$"
   ]
  },
  {
   "cell_type": "code",
   "execution_count": 878,
   "metadata": {},
   "outputs": [
    {
     "name": "stderr",
     "output_type": "stream",
     "text": [
      "2019-05-09 13:49:25,504 - pyswarms.discrete.binary - INFO - Optimize for 10 iters with {'c1': 0.5, 'c2': 0.5, 'w': 0.9, 'k': 30, 'p': 2}\n",
      "\n",
      "\n",
      "\n",
      "\n",
      "pyswarms.discrete.binary:   0%|                                           |0/10\n",
      "\n",
      "\n",
      "\n",
      "pyswarms.discrete.binary:   0%|                           |0/10, best_cost=0.32\n",
      "\n",
      "\n",
      "\n",
      "pyswarms.discrete.binary:  10%|██▋                        |1/10, best_cost=0.32\n",
      "\n",
      "\n",
      "\n",
      "pyswarms.discrete.binary:  10%|██▌                       |1/10, best_cost=0.239\n",
      "\n",
      "\n",
      "\n",
      "pyswarms.discrete.binary:  20%|█████▏                    |2/10, best_cost=0.239\n",
      "\n",
      "\n",
      "\n",
      "pyswarms.discrete.binary:  20%|█████▏                    |2/10, best_cost=0.239\n",
      "\n",
      "\n",
      "\n",
      "pyswarms.discrete.binary:  30%|███████▊                  |3/10, best_cost=0.239\n",
      "\n",
      "\n",
      "\n",
      "pyswarms.discrete.binary:  30%|███████▊                  |3/10, best_cost=0.239\n",
      "\n",
      "\n",
      "\n",
      "pyswarms.discrete.binary:  40%|██████████▍               |4/10, best_cost=0.239\n",
      "\n",
      "\n",
      "\n",
      "pyswarms.discrete.binary:  40%|██████████▍               |4/10, best_cost=0.239\n",
      "\n",
      "\n",
      "\n",
      "pyswarms.discrete.binary:  50%|█████████████             |5/10, best_cost=0.239\n",
      "\n",
      "\n",
      "\n",
      "pyswarms.discrete.binary:  50%|█████████████             |5/10, best_cost=0.239\n",
      "\n",
      "\n",
      "\n",
      "pyswarms.discrete.binary:  60%|███████████████▌          |6/10, best_cost=0.239\n",
      "\n",
      "\n",
      "\n",
      "pyswarms.discrete.binary:  60%|███████████████▌          |6/10, best_cost=0.239\n",
      "\n",
      "\n",
      "\n",
      "pyswarms.discrete.binary:  70%|██████████████████▏       |7/10, best_cost=0.239\n",
      "\n",
      "\n",
      "\n",
      "pyswarms.discrete.binary:  70%|██████████████████▏       |7/10, best_cost=0.239\n",
      "\n",
      "\n",
      "\n",
      "pyswarms.discrete.binary:  80%|████████████████████▊     |8/10, best_cost=0.239\n",
      "\n",
      "\n",
      "\n",
      "pyswarms.discrete.binary:  80%|████████████████████▊     |8/10, best_cost=0.239\n",
      "\n",
      "\n",
      "\n",
      "pyswarms.discrete.binary:  90%|███████████████████████▍  |9/10, best_cost=0.239\n",
      "\n",
      "\n",
      "\n",
      "pyswarms.discrete.binary:  90%|███████████████████████▍  |9/10, best_cost=0.239\n",
      "\n",
      "\n",
      "\n",
      "pyswarms.discrete.binary: 100%|█████████████████████████|10/10, best_cost=0.239\n",
      "\n",
      "\n",
      "\n",
      "2019-05-09 13:49:41,027 - pyswarms.discrete.binary - INFO - Optimization finished | best cost: 0.23911348015149386, best pos: [0 0 1 ... 0 1 1]\n"
     ]
    }
   ],
   "source": [
    "import pyswarms as ps\n",
    "# Initialize swarm\n",
    "options = {'c1': 0.5, 'c2': 0.5, 'w':0.9, 'k': 30, 'p':2}\n",
    "dimensions = 7129 #number of features\n",
    "optimizer = ps.discrete.BinaryPSO(n_particles=30, dimensions=dimensions, options=options)\n",
    "# Perform optimization\n",
    "cost, pos = optimizer.optimize(f, iters=10)"
   ]
  },
  {
   "cell_type": "markdown",
   "metadata": {},
   "source": [
    "#### The selected features:"
   ]
  },
  {
   "cell_type": "code",
   "execution_count": 879,
   "metadata": {},
   "outputs": [],
   "source": [
    "X_train = X_train[:,pos==1]\n",
    "X_test = X_test[:,pos==1]"
   ]
  },
  {
   "cell_type": "markdown",
   "metadata": {},
   "source": [
    "## Feature extraction \n",
    "To perform feature extraction we will use Principal Component Analysis (PCA) algorithm. PCA is a dimensionality reduction algorithm used to convert a set of correlated variables into a set of values of linearly uncorrelated variables called principal components. "
   ]
  },
  {
   "cell_type": "code",
   "execution_count": 913,
   "metadata": {},
   "outputs": [],
   "source": [
    "from sklearn.decomposition import PCA\n",
    "pca = PCA(n_components =11,random_state=86)\n",
    "Xpc = pca.fit(X_train)\n",
    "Xpca = Xpc.transform(X_train)\n",
    "Xtestpca = Xpc.transform(X_test)"
   ]
  },
  {
   "cell_type": "markdown",
   "metadata": {},
   "source": [
    "## Model fitting"
   ]
  },
  {
   "cell_type": "code",
   "execution_count": 914,
   "metadata": {},
   "outputs": [],
   "source": [
    "cl = classifier.fit(Xpca, y_train)"
   ]
  },
  {
   "cell_type": "markdown",
   "metadata": {},
   "source": [
    "## Model evaluation\n",
    "#### Accuracy:"
   ]
  },
  {
   "cell_type": "code",
   "execution_count": 915,
   "metadata": {},
   "outputs": [
    {
     "name": "stdout",
     "output_type": "stream",
     "text": [
      "0.8333333333333334\n"
     ]
    }
   ],
   "source": [
    "accuracy = (cl.predict(Xtestpca)==y_test).mean()\n",
    "print(accuracy)"
   ]
  },
  {
   "cell_type": "markdown",
   "metadata": {},
   "source": [
    "#### Confusion matrix:"
   ]
  },
  {
   "cell_type": "code",
   "execution_count": 916,
   "metadata": {},
   "outputs": [
    {
     "data": {
      "text/plain": [
       "<matplotlib.axes._subplots.AxesSubplot at 0x12008278>"
      ]
     },
     "execution_count": 916,
     "metadata": {},
     "output_type": "execute_result"
    },
    {
     "data": {
      "image/png": "[encoded data removed]",
      "text/plain": [
       "<Figure size 432x288 with 2 Axes>"
      ]
     },
     "metadata": {},
     "output_type": "display_data"
    }
   ],
   "source": [
    "from sklearn.metrics import confusion_matrix\n",
    "import seaborn as sb\n",
    "sb.heatmap(confusion_matrix(cl.predict(Xtestpca),y_test),annot=True)"
   ]
  },
  {
   "cell_type": "markdown",
   "metadata": {},
   "source": [
    "#### Precision, recall and F1-score:"
   ]
  },
  {
   "cell_type": "code",
   "execution_count": 871,
   "metadata": {},
   "outputs": [
    {
     "name": "stdout",
     "output_type": "stream",
     "text": [
      "             precision    recall  f1-score   support\n",
      "\n",
      "          0       1.00      0.81      0.90        16\n",
      "          1       0.40      1.00      0.57         2\n",
      "\n",
      "avg / total       0.93      0.83      0.86        18\n",
      "\n"
     ]
    }
   ],
   "source": [
    "from sklearn.metrics import classification_report\n",
    "print(classification_report(cl.predict(Xtestpca),y_test))"
   ]
  }
 ],
 "metadata": {
  "kernelspec": {
   "display_name": "Python 3",
   "language": "python",
   "name": "python3"
  },
  "language_info": {
   "codemirror_mode": {
    "name": "ipython",
    "version": 3
   },
   "file_extension": ".py",
   "mimetype": "text/x-python",
   "name": "python",
   "nbconvert_exporter": "python",
   "pygments_lexer": "ipython3",
   "version": "3.6.5"
  }
 },
 "nbformat": 4,
 "nbformat_minor": 2
}
